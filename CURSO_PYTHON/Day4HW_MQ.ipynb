{
 "cells": [
  {
   "cell_type": "code",
   "execution_count": 2,
   "metadata": {},
   "outputs": [
    {
     "name": "stdout",
     "output_type": "stream",
     "text": [
      "Cooking... food number:  1\n",
      "Cooking... food number:  2\n",
      "Cooking... food number:  3\n",
      "Cooking... food number:  4\n",
      "Cooking... food number:  5\n",
      "Cooking... food number:  6\n",
      "Cooking... food number:  7\n",
      "Error...\n"
     ]
    }
   ],
   "source": [
    "## Parte 1\n",
    "food_num = 0\n",
    "while food_num < 10:\n",
    "    food_num = food_num + 1\n",
    "    if food_num == 8:\n",
    "        print(\"Error...\")\n",
    "        break\n",
    "    print(\"Cooking... food number: \", food_num)"
   ]
  },
  {
   "cell_type": "code",
   "execution_count": 6,
   "metadata": {},
   "outputs": [
    {
     "name": "stdout",
     "output_type": "stream",
     "text": [
      "1\n",
      "2\n",
      "3\n",
      "4\n",
      "6\n",
      "7\n",
      "8\n",
      "9\n",
      "10\n",
      "Suma:  50\n"
     ]
    }
   ],
   "source": [
    "## Parte 2\n",
    "sum = 0\n",
    "for i in range(1,11):\n",
    "    if i != 5:\n",
    "        sum = sum + i\n",
    "        print(i)\n",
    "print(\"Suma: \", sum)"
   ]
  },
  {
   "cell_type": "code",
   "execution_count": 21,
   "metadata": {},
   "outputs": [
    {
     "name": "stdout",
     "output_type": "stream",
     "text": [
      "Cat is in position: 4\n"
     ]
    }
   ],
   "source": [
    "## Parte 3\n",
    "animal_list=['dog','cow','pig','cat','rabbit']\n",
    "i=0\n",
    "for animal in animal_list:\n",
    "    i=i+1\n",
    "    if animal == 'cat':\n",
    "        print('Cat is in position:', i)"
   ]
  },
  {
   "cell_type": "code",
   "execution_count": null,
   "metadata": {},
   "outputs": [],
   "source": []
  }
 ],
 "metadata": {
  "kernelspec": {
   "display_name": "Python 3",
   "language": "python",
   "name": "python3"
  },
  "language_info": {
   "codemirror_mode": {
    "name": "ipython",
    "version": 3
   },
   "file_extension": ".py",
   "mimetype": "text/x-python",
   "name": "python",
   "nbconvert_exporter": "python",
   "pygments_lexer": "ipython3",
   "version": "3.8.5"
  }
 },
 "nbformat": 4,
 "nbformat_minor": 4
}
