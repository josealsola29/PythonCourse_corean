{
 "cells": [
  {
   "cell_type": "markdown",
   "metadata": {},
   "source": [
    "# Day 3\n",
    "\n",
    "## Understanding the Collection types 1 - List, Tuple"
   ]
  },
  {
   "cell_type": "markdown",
   "metadata": {},
   "source": [
    "## >> List and Tuples\n",
    "* Data structure that can contain multiple values\n",
    "* We can understand this as the list in the actual usages with values in sequences\n",
    "* List could be modified however tuple cannot be modified, and we call these mutable and immutable"
   ]
  },
  {
   "cell_type": "markdown",
   "metadata": {},
   "source": [
    "### - List"
   ]
  },
  {
   "cell_type": "markdown",
   "metadata": {},
   "source": [
    "* We can think this 'List' as data structure that contains multiple values: Let's say there's 1, 2, 3, 4, 5 five numbers and we want to put them in one set, than we use list\n",
    "\n",
    "* We make the list by putting the values in [] (parentheses)\n",
    "* We can make the list by using the 'list()' function\n",
    "* We can make the list by using 'str.split()', which we can make the string to list of characters (Since string itself is the multiple characters)"
   ]
  },
  {
   "cell_type": "code",
   "execution_count": 1,
   "metadata": {},
   "outputs": [
    {
     "name": "stdout",
     "output_type": "stream",
     "text": [
      "[]\n",
      "<class 'list'>\n"
     ]
    }
   ],
   "source": [
    "# Empty list could be declared\n",
    "test = []\n",
    "print(test)\n",
    "print(type(test))\n"
   ]
  },
  {
   "cell_type": "code",
   "execution_count": 2,
   "metadata": {},
   "outputs": [
    {
     "name": "stdout",
     "output_type": "stream",
     "text": [
      "[1, 2, 3, 4, 5]\n"
     ]
    }
   ],
   "source": [
    "# Elements IN\n",
    "test = [1, 2, 3, 4, 5]\n",
    "print(test)"
   ]
  },
  {
   "cell_type": "code",
   "execution_count": 3,
   "metadata": {},
   "outputs": [
    {
     "name": "stdout",
     "output_type": "stream",
     "text": [
      "['korea', 'panama', 23, 24.1, [15, 16]]\n"
     ]
    }
   ],
   "source": [
    "# List could contain the integer, floating point number, string, or list itself as the element\n",
    "test = ['korea', 'panama', 23, 24.1, [15, 16]]\n",
    "print(test)"
   ]
  },
  {
   "cell_type": "markdown",
   "metadata": {},
   "source": [
    "**list() function**\n",
    "    * Other data types could be converted into the list by using this function"
   ]
  },
  {
   "cell_type": "code",
   "execution_count": 4,
   "metadata": {},
   "outputs": [
    {
     "name": "stdout",
     "output_type": "stream",
     "text": [
      "['H', 'e', 'l', 'l', 'o', ' ', 'w', 'o', 'r', 'l', 'd']\n",
      "[1, 2, 3]\n"
     ]
    }
   ],
   "source": [
    "str_ = 'Hello world'\n",
    "str_list = list(str_)\n",
    "print(str_list)\n",
    "\n",
    "a = (1, 2, 3) # We'll learn this below : Tuple\n",
    "b = list(a)\n",
    "\n",
    "print(b)"
   ]
  },
  {
   "cell_type": "markdown",
   "metadata": {},
   "source": [
    "**String split function**\n",
    "    * Converting the string to list by using the separator (which we learned in day 2 part 1)"
   ]
  },
  {
   "cell_type": "code",
   "execution_count": 5,
   "metadata": {},
   "outputs": [
    {
     "name": "stdout",
     "output_type": "stream",
     "text": [
      "['hello', 'world', 'goodbye', 'world']\n"
     ]
    }
   ],
   "source": [
    "a = 'hello world goodbye world'\n",
    "b = a.split()\n",
    "\n",
    "print(b)"
   ]
  },
  {
   "cell_type": "markdown",
   "metadata": {},
   "source": [
    "**List indexing**\n",
    "    * This could be thought equivalent to the indexing of string\n",
    "    * Use the [] operator to gain the element\n",
    "    * [i] return the element with the index i\n",
    "    * As explained in day 2, using -1, -2, ... as index is possible"
   ]
  },
  {
   "cell_type": "code",
   "execution_count": 7,
   "metadata": {},
   "outputs": [
    {
     "name": "stdout",
     "output_type": "stream",
     "text": [
      "<class 'list'>\n",
      "8\n",
      "8\n",
      "3\n",
      "8\n"
     ]
    }
   ],
   "source": [
    "a = [1, 2, 3, 4, 5, 6, 7, 8]\n",
    "print(type(a))\n",
    "print(len(a)) # indexed through 0 to 7 since length is 8\n",
    "\n",
    "print(a[-1])\n",
    "print(a[2])\n",
    "print(a[7])"
   ]
  },
  {
   "cell_type": "markdown",
   "metadata": {},
   "source": [
    "**Accessing the list items individually**\n",
    "    * We can access the item by using the index and update the values individually"
   ]
  },
  {
   "cell_type": "code",
   "execution_count": 9,
   "metadata": {},
   "outputs": [
    {
     "name": "stdout",
     "output_type": "stream",
     "text": [
      "H\n",
      "----------\n",
      "Hello world\n",
      "Cello World\n",
      "Hello World\n",
      "Hello World\n"
     ]
    }
   ],
   "source": [
    "# String could not be modified by each value, but list could be modified by updating the each item\n",
    "a = 'Hello world'\n",
    "print(a[0])\n",
    "#a[0] = 'k' # returns TypeError, since string is immutable\n",
    "\n",
    "b = 'Cello World'\n",
    "c = 'H' + b[1:] # We can make new string, since string itself is immutable\n",
    "#you should know string slicing to understand this. Please check the day 2 appendix first\n",
    "\n",
    "d = b.replace('C', 'H') # Actually, this function works by making new string\n",
    "\n",
    "print('-'*10)\n",
    "print(a)\n",
    "print(b)\n",
    "print(c)\n",
    "print(d)"
   ]
  },
  {
   "cell_type": "code",
   "execution_count": null,
   "metadata": {},
   "outputs": [],
   "source": [
    "# However, the list itself is mutable\n",
    "a = [1, 2, 3, 4, 5]\n",
    "# Reassigning the value\n",
    "a[0] = 100\n",
    "a[-1] = 90\n",
    "\n",
    "print(a)"
   ]
  },
  {
   "cell_type": "markdown",
   "metadata": {},
   "source": [
    "**List Slicing**\n",
    "    * Works similar to string slicing\n",
    "    * Result of the list slicing is also the list"
   ]
  },
  {
   "cell_type": "code",
   "execution_count": 12,
   "metadata": {},
   "outputs": [
    {
     "name": "stdout",
     "output_type": "stream",
     "text": [
      "[5, 6, 7]\n"
     ]
    }
   ],
   "source": [
    "a = [1, 2, 3, 4, 5, 6, 7, 8]\n",
    "print(a[4:7])\n",
    "print(a[:7])\n",
    "print(a[3:])\n",
    "print(a[:])\n"
   ]
  },
  {
   "cell_type": "markdown",
   "metadata": {},
   "source": [
    "#### >>>>Member functions of list would be provided as additional study materials"
   ]
  },
  {
   "cell_type": "markdown",
   "metadata": {},
   "source": [
    "## - Tuple\n",
    "    * Collection type that contains multiple values as the list\n",
    "    * It can't be modified (Immutable)"
   ]
  },
  {
   "cell_type": "code",
   "execution_count": 13,
   "metadata": {},
   "outputs": [
    {
     "name": "stdout",
     "output_type": "stream",
     "text": [
      "<class 'list'>\n",
      "<class 'tuple'>\n",
      "[100, 2, 3, 4, 5]\n"
     ]
    },
    {
     "ename": "TypeError",
     "evalue": "'tuple' object does not support item assignment",
     "output_type": "error",
     "traceback": [
      "\u001b[0;31m---------------------------------------------------------------------------\u001b[0m",
      "\u001b[0;31mTypeError\u001b[0m                                 Traceback (most recent call last)",
      "\u001b[0;32m<ipython-input-13-51b630436020>\u001b[0m in \u001b[0;36m<module>\u001b[0;34m\u001b[0m\n\u001b[1;32m      8\u001b[0m \u001b[0mprint\u001b[0m\u001b[0;34m(\u001b[0m\u001b[0ma\u001b[0m\u001b[0;34m)\u001b[0m\u001b[0;34m\u001b[0m\u001b[0;34m\u001b[0m\u001b[0m\n\u001b[1;32m      9\u001b[0m \u001b[0;34m\u001b[0m\u001b[0m\n\u001b[0;32m---> 10\u001b[0;31m \u001b[0mb\u001b[0m\u001b[0;34m[\u001b[0m\u001b[0;36m0\u001b[0m\u001b[0;34m]\u001b[0m \u001b[0;34m=\u001b[0m \u001b[0;36m100\u001b[0m\u001b[0;34m\u001b[0m\u001b[0;34m\u001b[0m\u001b[0m\n\u001b[0m\u001b[1;32m     11\u001b[0m \u001b[0mprint\u001b[0m\u001b[0;34m(\u001b[0m\u001b[0mb\u001b[0m\u001b[0;34m)\u001b[0m\u001b[0;34m\u001b[0m\u001b[0;34m\u001b[0m\u001b[0m\n",
      "\u001b[0;31mTypeError\u001b[0m: 'tuple' object does not support item assignment"
     ]
    }
   ],
   "source": [
    "a = [1, 2, 3, 4, 5]\n",
    "b = (1, 2, 3, 4, 5)\n",
    "\n",
    "print(type(a))\n",
    "print(type(b))\n",
    "\n",
    "a[0] = 100\n",
    "print(a)\n",
    "\n",
    "b[0] = 100 # Returns TypeError : since tuple object is immutable\n",
    "print(b)"
   ]
  },
  {
   "cell_type": "markdown",
   "metadata": {},
   "source": [
    "**Tuple Unpacking**\n",
    "    * Putting the values of tuples into variables"
   ]
  },
  {
   "cell_type": "code",
   "execution_count": 14,
   "metadata": {},
   "outputs": [
    {
     "name": "stdout",
     "output_type": "stream",
     "text": [
      "100 200 300\n"
     ]
    }
   ],
   "source": [
    "a, b, c = 100, 200, 300 # equivalent to a, b, c = (100, 200, 300)\n",
    "print(a, b, c)"
   ]
  },
  {
   "cell_type": "markdown",
   "metadata": {},
   "source": [
    "### Exercise\n",
    "-> Exchange values of a and b (swap them using tuple unpacking)"
   ]
  },
  {
   "cell_type": "code",
   "execution_count": null,
   "metadata": {},
   "outputs": [],
   "source": []
  },
  {
   "cell_type": "markdown",
   "metadata": {},
   "source": [
    "# Day 3\n",
    "\n",
    "## Understanding the Collection types 2 - Dictionary, Set"
   ]
  },
  {
   "cell_type": "markdown",
   "metadata": {},
   "source": [
    "## >> Dictionary and sets\n",
    "   * Data structures that can contain multiple values, but it works different from the list and tuple\n",
    "   "
   ]
  },
  {
   "cell_type": "markdown",
   "metadata": {},
   "source": [
    "### - Dictionary\n",
    "    * Data structure that have keys and values\n",
    "    * Keys are contained internally with hash value\n",
    "    * There's no order in the dictionary, hence there's no index for any of the elemements in the dictionary"
   ]
  },
  {
   "cell_type": "code",
   "execution_count": 5,
   "metadata": {},
   "outputs": [
    {
     "name": "stdout",
     "output_type": "stream",
     "text": [
      "1000\n"
     ]
    }
   ],
   "source": [
    "cities = {'Korea' : 'Seoul', \n",
    "          'Panama' : 'Panama', \n",
    "          'USA' : 'Washington D.C.', \n",
    "          'Japan': 'Tokyo'}"
   ]
  },
  {
   "cell_type": "code",
   "execution_count": 6,
   "metadata": {},
   "outputs": [
    {
     "name": "stdout",
     "output_type": "stream",
     "text": [
      "1000\n"
     ]
    }
   ],
   "source": [
    "test = {0:1, 1:10, 2:100, 3:1000}\n",
    "print(test[3])"
   ]
  },
  {
   "cell_type": "markdown",
   "metadata": {},
   "source": [
    "* **Modifying the elements in the dictionary**"
   ]
  },
  {
   "cell_type": "code",
   "execution_count": 2,
   "metadata": {},
   "outputs": [
    {
     "name": "stdout",
     "output_type": "stream",
     "text": [
      "Seoul\n",
      "{'Korea': 'Pusan', 'Panama': 'Panama', 'USA': 'Washington D.C.', 'Japan': 'Tokyo'}\n",
      "Pusan\n"
     ]
    }
   ],
   "source": [
    "print(cities['Korea'])\n",
    "cities['Korea'] = 'Pusan'\n",
    "print(cities)\n",
    "print(cities['Korea'])"
   ]
  },
  {
   "cell_type": "code",
   "execution_count": 3,
   "metadata": {},
   "outputs": [
    {
     "name": "stdout",
     "output_type": "stream",
     "text": [
      "Tokyo\n",
      "{'Korea': 'Pusan', 'Panama': 'Panama', 'USA': 'Washington D.C.', 'Japan': 'Kyoto'}\n",
      "Kyoto\n"
     ]
    }
   ],
   "source": [
    "print(cities['Japan'])\n",
    "cities['Japan'] = 'Kyoto'\n",
    "print(cities)\n",
    "print(cities['Japan'])"
   ]
  },
  {
   "cell_type": "markdown",
   "metadata": {},
   "source": [
    "* **Addition of the elements in the dictionary**"
   ]
  },
  {
   "cell_type": "code",
   "execution_count": 4,
   "metadata": {},
   "outputs": [
    {
     "name": "stdout",
     "output_type": "stream",
     "text": [
      "{'Korea': 'Pusan', 'Panama': 'Panama', 'USA': 'Washington D.C.', 'Japan': 'Kyoto'}\n"
     ]
    }
   ],
   "source": [
    "cities['Canada'] = 'Vancouver'\n",
    "print(cities)"
   ]
  },
  {
   "cell_type": "markdown",
   "metadata": {},
   "source": [
    "* **update()**\n",
    "    * Merge two dictionaries\n",
    "    * If there's overlapping keys, then the transferred parameter would be overwritten"
   ]
  },
  {
   "cell_type": "code",
   "execution_count": 8,
   "metadata": {},
   "outputs": [
    {
     "name": "stdout",
     "output_type": "stream",
     "text": [
      "{'a': 4, 'b': 3, 'c': 3, 'd': 5, 'e': 6}\n"
     ]
    }
   ],
   "source": [
    "a = {'a': 2, 'b': 3, 'c' : 3}\n",
    "b = {'a': 4, 'd': 5, 'e': 6}\n",
    "\n",
    "a.update(b)\n",
    "\n",
    "print(a)"
   ]
  },
  {
   "cell_type": "markdown",
   "metadata": {},
   "source": [
    "* **key deletion**\n",
    "    * Use del keyword\n",
    "    * Use pop function"
   ]
  },
  {
   "cell_type": "code",
   "execution_count": 21,
   "metadata": {},
   "outputs": [
    {
     "name": "stdout",
     "output_type": "stream",
     "text": [
      "{'a': 5, 'b': 4, 'c': 3}\n",
      "{'a': 5, 'c': 3}\n"
     ]
    }
   ],
   "source": [
    "a = {'a': 5, 'b': 4, 'c' : 3}\n",
    "print(a)\n",
    "\n",
    "del a['b']\n",
    "print(a)"
   ]
  },
  {
   "cell_type": "code",
   "execution_count": null,
   "metadata": {},
   "outputs": [],
   "source": [
    "a = {'a': 5, 'b': 4, 'c' : 3}\n",
    "element = a.pop('c')\n",
    "print(element)\n",
    "print(a)"
   ]
  },
  {
   "cell_type": "markdown",
   "metadata": {},
   "source": [
    "* **clear()**\n",
    "    * Reset all the values in the dictioanry"
   ]
  },
  {
   "cell_type": "code",
   "execution_count": 22,
   "metadata": {},
   "outputs": [
    {
     "name": "stdout",
     "output_type": "stream",
     "text": [
      "{'a': 5, 'c': 3}\n",
      "{}\n"
     ]
    }
   ],
   "source": [
    "print(a)\n",
    "a.clear()\n",
    "print(a)"
   ]
  },
  {
   "cell_type": "markdown",
   "metadata": {},
   "source": [
    "* **in**\n",
    "    * Check the existence of key value"
   ]
  },
  {
   "cell_type": "code",
   "execution_count": 10,
   "metadata": {},
   "outputs": [
    {
     "name": "stdout",
     "output_type": "stream",
     "text": [
      "True\n",
      "False\n",
      "True\n"
     ]
    }
   ],
   "source": [
    "a = {'a': 2, 'b': 10, 'c' : 100}\n",
    "b = [1, 2, 3, 4, 5, 6, 7, 9, 10, 11, 12, 15, 100]\n",
    "\n",
    "print(100 in b)\n",
    "print(2 in a)\n",
    "print('b' in a)"
   ]
  },
  {
   "cell_type": "markdown",
   "metadata": {},
   "source": [
    "* **value access**\n",
    "    * Access by using dict[key], without key, error would be returned\n",
    "    * Use .get() function to access, and if there's no key then None would be returned"
   ]
  },
  {
   "cell_type": "code",
   "execution_count": 11,
   "metadata": {},
   "outputs": [
    {
     "name": "stdout",
     "output_type": "stream",
     "text": [
      "None\n"
     ]
    }
   ],
   "source": [
    "print(a.get('e'))\n",
    "\n",
    "if 'e' in a:\n",
    "    print(a['e'])"
   ]
  },
  {
   "cell_type": "markdown",
   "metadata": {},
   "source": [
    "* **Accessing all the keys and values**\n",
    "    * keys() - Only return the keys\n",
    "    * values() - only return the values\n",
    "    * items() - Return tuples of keys and values"
   ]
  },
  {
   "cell_type": "code",
   "execution_count": 12,
   "metadata": {},
   "outputs": [
    {
     "name": "stdout",
     "output_type": "stream",
     "text": [
      "{'a': 2, 'b': 10, 'c': 100}\n",
      "['a', 'b', 'c']\n",
      "[2, 10, 100]\n"
     ]
    },
    {
     "data": {
      "text/plain": [
       "[('a', 2), ('b', 10), ('c', 100)]"
      ]
     },
     "execution_count": 12,
     "metadata": {},
     "output_type": "execute_result"
    }
   ],
   "source": [
    "print(a)\n",
    "print(list(a.keys()))\n",
    "print(list(a.values())) # a.values returns the tuples of the keys and values and list() makes it to list\n",
    "\n",
    "list(a.items())"
   ]
  },
  {
   "cell_type": "markdown",
   "metadata": {},
   "source": [
    "### - Set\n",
    "    * Understanding this data structure as using only the keys from the dictionary\n",
    "    * Keep in mind that keys could be overlapped"
   ]
  },
  {
   "cell_type": "code",
   "execution_count": null,
   "metadata": {},
   "outputs": [],
   "source": [
    "a = {1, 1, 2, 3, 3, 4, 1, 5}\n",
    "print(a)"
   ]
  },
  {
   "cell_type": "markdown",
   "metadata": {},
   "source": [
    "* **Use set() to make it as a set**"
   ]
  },
  {
   "cell_type": "code",
   "execution_count": 14,
   "metadata": {},
   "outputs": [
    {
     "name": "stdout",
     "output_type": "stream",
     "text": [
      "[1, 1, 2, 3, 2, 4, 6, 1, 5]\n",
      "{1, 2, 3, 4, 5, 6}\n"
     ]
    }
   ],
   "source": [
    "a = [1, 1, 2, 3, 2, 4, 6, 1, 5]\n",
    "print(a)\n",
    "\n",
    "b = set(a)\n",
    "print(b)"
   ]
  },
  {
   "cell_type": "markdown",
   "metadata": {},
   "source": [
    "* **set operations**\n",
    "    * Equivalent to the operations in Mathematics\n",
    "    * It supports operations of union, intersection and difference\n",
    "    * It also supports to check whether one set is subset of another set"
   ]
  },
  {
   "cell_type": "code",
   "execution_count": 15,
   "metadata": {},
   "outputs": [
    {
     "name": "stdout",
     "output_type": "stream",
     "text": [
      "{1, 2, 3, 4, 5, 6}\n",
      "set()\n",
      "{1, 4, 6}\n",
      "False\n"
     ]
    }
   ],
   "source": [
    "a = {1, 4, 6}\n",
    "b = {2, 3, 5}\n",
    "\n",
    "print(a.union(b)) # Union\n",
    "print(a.intersection(b)) # Intersection\n",
    "print(a.difference(b)) # Difference\n",
    "print(a.issubset(b)) # Subsets"
   ]
  }
 ],
 "metadata": {
  "kernelspec": {
   "display_name": "Python 3",
   "language": "python",
   "name": "python3"
  },
  "language_info": {
   "codemirror_mode": {
    "name": "ipython",
    "version": 3
   },
   "file_extension": ".py",
   "mimetype": "text/x-python",
   "name": "python",
   "nbconvert_exporter": "python",
   "pygments_lexer": "ipython3",
   "version": "3.8.5"
  }
 },
 "nbformat": 4,
 "nbformat_minor": 4
}
