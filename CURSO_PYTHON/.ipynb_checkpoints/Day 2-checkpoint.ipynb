{
 "cells": [
  {
   "cell_type": "markdown",
   "metadata": {},
   "source": [
    "# Day 2\n",
    "#### Variables and Basic Data types"
   ]
  },
  {
   "cell_type": "markdown",
   "metadata": {},
   "source": [
    "Instructor : Daneul Kim (TEAM Always Summer @ WFK KOICA)"
   ]
  },
  {
   "cell_type": "code",
   "execution_count": 1,
   "metadata": {},
   "outputs": [
    {
     "name": "stdout",
     "output_type": "stream",
     "text": [
      "HELLO WORLD!!Always summer~~\n",
      "THIS IS THE PYTHON PROGRAM\n",
      "hello-world!"
     ]
    }
   ],
   "source": [
    "print('HELLO WORLD', 'Always summer', sep='!!', end='~~\\n')\n",
    "print('THIS IS THE PYTHON PROGRAM')\n",
    "string1 = 'hello'\n",
    "string2 = 'world'\n",
    "print(string1, string2, sep='-', end='!')"
   ]
  },
  {
   "cell_type": "markdown",
   "metadata": {},
   "source": [
    "## Part I. What is variable?"
   ]
  },
  {
   "cell_type": "markdown",
   "metadata": {},
   "source": [
    "### - Value Assignment and Comparison operator\n",
    "= value assignment\n",
    "\n",
    "== comparison operator"
   ]
  },
  {
   "cell_type": "code",
   "execution_count": 6,
   "metadata": {},
   "outputs": [
    {
     "data": {
      "text/plain": [
       "True"
      ]
     },
     "execution_count": 6,
     "metadata": {},
     "output_type": "execute_result"
    }
   ],
   "source": [
    "a = 2\n",
    "b = 5\n",
    "c == 33"
   ]
  },
  {
   "cell_type": "code",
   "execution_count": 9,
   "metadata": {},
   "outputs": [
    {
     "data": {
      "text/plain": [
       "False"
      ]
     },
     "execution_count": 9,
     "metadata": {},
     "output_type": "execute_result"
    }
   ],
   "source": [
    "c == 33"
   ]
  },
  {
   "cell_type": "markdown",
   "metadata": {},
   "source": [
    "## - Making comments on your code\n",
    "\n",
    "use # to make comments on your code"
   ]
  },
  {
   "cell_type": "code",
   "execution_count": 10,
   "metadata": {},
   "outputs": [],
   "source": [
    "a = 33\n",
    "b = 22\n",
    "c = 11 # c is re-assigned with new value 11"
   ]
  },
  {
   "cell_type": "code",
   "execution_count": 11,
   "metadata": {},
   "outputs": [
    {
     "name": "stdout",
     "output_type": "stream",
     "text": [
      "11\n"
     ]
    }
   ],
   "source": [
    "print(c)"
   ]
  },
  {
   "cell_type": "code",
   "execution_count": 12,
   "metadata": {},
   "outputs": [
    {
     "name": "stdout",
     "output_type": "stream",
     "text": [
      "33 22\n"
     ]
    }
   ],
   "source": [
    "print(a, b)"
   ]
  },
  {
   "cell_type": "markdown",
   "metadata": {},
   "source": [
    "## - Print function\n",
    "Function : Code block that could be repeatedly used for specific usage\n"
   ]
  },
  {
   "cell_type": "code",
   "execution_count": 4,
   "metadata": {
    "scrolled": true
   },
   "outputs": [
    {
     "name": "stdout",
     "output_type": "stream",
     "text": [
      "33\n"
     ]
    }
   ],
   "source": [
    "print(a)"
   ]
  },
  {
   "cell_type": "code",
   "execution_count": 5,
   "metadata": {},
   "outputs": [
    {
     "name": "stdout",
     "output_type": "stream",
     "text": [
      "33 33 44 21 42\n"
     ]
    }
   ],
   "source": [
    "b = 33\n",
    "c = 44\n",
    "d = 21\n",
    "e = 42\n",
    "print(a, b, c, d, e)"
   ]
  },
  {
   "cell_type": "markdown",
   "metadata": {},
   "source": [
    "## - Print function settings\n",
    "Basic settings by using sep and end"
   ]
  },
  {
   "cell_type": "code",
   "execution_count": 8,
   "metadata": {},
   "outputs": [
    {
     "name": "stdout",
     "output_type": "stream",
     "text": [
      "33, 33, 44, 21, 42 33 44 "
     ]
    }
   ],
   "source": [
    "#33 33 44 21 42\n",
    "#33, 33, 44, 21, 42\n",
    "print(a, b, c, d, e, sep=', ', end=' ')\n",
    "print(b, end=' ')\n",
    "print(c, end=' ')"
   ]
  },
  {
   "cell_type": "markdown",
   "metadata": {},
   "source": [
    "## - Exercise\n",
    "1. Assign the value 365 to 'x', assign the value 128 to 'y' and assign the value 237 to 'z' \n",
    "2. Print out x, y in same line with separator '-' and print out '=' using the 'end' setting\n",
    "3. Print out z\n",
    "\n",
    "-- You can use print twice --"
   ]
  },
  {
   "cell_type": "code",
   "execution_count": 9,
   "metadata": {},
   "outputs": [
    {
     "name": "stdout",
     "output_type": "stream",
     "text": [
      "365-128=237\n"
     ]
    }
   ],
   "source": [
    "x = 365\n",
    "y = 128\n",
    "z = 237\n",
    "print(x, y, sep='-', end='=')\n",
    "print(z)"
   ]
  },
  {
   "cell_type": "code",
   "execution_count": 10,
   "metadata": {},
   "outputs": [
    {
     "name": "stdout",
     "output_type": "stream",
     "text": [
      "24\n"
     ]
    }
   ],
   "source": [
    "xyz_3_2_324 = 24\n",
    "print(xyz_3_2_324)"
   ]
  },
  {
   "cell_type": "code",
   "execution_count": 11,
   "metadata": {},
   "outputs": [
    {
     "ename": "SyntaxError",
     "evalue": "invalid syntax (<ipython-input-11-1047f15ca1b1>, line 1)",
     "output_type": "error",
     "traceback": [
      "\u001b[0;36m  File \u001b[0;32m\"<ipython-input-11-1047f15ca1b1>\"\u001b[0;36m, line \u001b[0;32m1\u001b[0m\n\u001b[0;31m    3b = 2\u001b[0m\n\u001b[0m     ^\u001b[0m\n\u001b[0;31mSyntaxError\u001b[0m\u001b[0;31m:\u001b[0m invalid syntax\n"
     ]
    }
   ],
   "source": [
    "3b = 2"
   ]
  },
  {
   "cell_type": "code",
   "execution_count": 12,
   "metadata": {},
   "outputs": [
    {
     "ename": "SyntaxError",
     "evalue": "invalid syntax (<ipython-input-12-81f260bd2c61>, line 1)",
     "output_type": "error",
     "traceback": [
      "\u001b[0;36m  File \u001b[0;32m\"<ipython-input-12-81f260bd2c61>\"\u001b[0;36m, line \u001b[0;32m1\u001b[0m\n\u001b[0;31m    for = 2\u001b[0m\n\u001b[0m        ^\u001b[0m\n\u001b[0;31mSyntaxError\u001b[0m\u001b[0;31m:\u001b[0m invalid syntax\n"
     ]
    }
   ],
   "source": [
    "for = 2"
   ]
  },
  {
   "cell_type": "markdown",
   "metadata": {},
   "source": [
    "## Part II. Basic data types\n"
   ]
  },
  {
   "cell_type": "markdown",
   "metadata": {},
   "source": [
    "## - Type function\n"
   ]
  },
  {
   "cell_type": "code",
   "execution_count": 1,
   "metadata": {},
   "outputs": [],
   "source": [
    "a = 11 # integer (int)\n",
    "b = 12.1 # floating point number (float)"
   ]
  },
  {
   "cell_type": "code",
   "execution_count": 2,
   "metadata": {},
   "outputs": [
    {
     "data": {
      "text/plain": [
       "int"
      ]
     },
     "execution_count": 2,
     "metadata": {},
     "output_type": "execute_result"
    }
   ],
   "source": [
    "type(a)"
   ]
  },
  {
   "cell_type": "code",
   "execution_count": 3,
   "metadata": {},
   "outputs": [
    {
     "data": {
      "text/plain": [
       "float"
      ]
     },
     "execution_count": 3,
     "metadata": {},
     "output_type": "execute_result"
    }
   ],
   "source": [
    "type(b)"
   ]
  },
  {
   "cell_type": "code",
   "execution_count": 4,
   "metadata": {},
   "outputs": [],
   "source": [
    "c = True # boolean type (bool)\n",
    "d = False # boolean type (bool)"
   ]
  },
  {
   "cell_type": "code",
   "execution_count": 5,
   "metadata": {},
   "outputs": [
    {
     "data": {
      "text/plain": [
       "bool"
      ]
     },
     "execution_count": 5,
     "metadata": {},
     "output_type": "execute_result"
    }
   ],
   "source": [
    " type(c)"
   ]
  },
  {
   "cell_type": "code",
   "execution_count": 6,
   "metadata": {},
   "outputs": [
    {
     "data": {
      "text/plain": [
       "bool"
      ]
     },
     "execution_count": 6,
     "metadata": {},
     "output_type": "execute_result"
    }
   ],
   "source": [
    "type(d)"
   ]
  },
  {
   "cell_type": "code",
   "execution_count": 7,
   "metadata": {},
   "outputs": [],
   "source": [
    "e = 'Hello World' # string (str)"
   ]
  },
  {
   "cell_type": "code",
   "execution_count": 8,
   "metadata": {},
   "outputs": [
    {
     "data": {
      "text/plain": [
       "str"
      ]
     },
     "execution_count": 8,
     "metadata": {},
     "output_type": "execute_result"
    }
   ],
   "source": [
    "type(e)"
   ]
  },
  {
   "cell_type": "markdown",
   "metadata": {},
   "source": [
    "### VARIABLE\n",
    "-> INPUT\n",
    "BLACKBOX (FUNCTION)\n",
    "-> OUTPUT\n",
    "### RESULT"
   ]
  },
  {
   "cell_type": "markdown",
   "metadata": {},
   "source": [
    "## - None"
   ]
  },
  {
   "cell_type": "code",
   "execution_count": 9,
   "metadata": {},
   "outputs": [
    {
     "name": "stdout",
     "output_type": "stream",
     "text": [
      "None\n"
     ]
    }
   ],
   "source": [
    "A = None\n",
    "print(A)"
   ]
  },
  {
   "cell_type": "markdown",
   "metadata": {},
   "source": [
    "## - Comparison operator\n",
    "* <, >\n",
    "* <=, >=\n",
    "* ==\n",
    "* !=\n",
    "\n",
    "returns boolean result"
   ]
  },
  {
   "cell_type": "code",
   "execution_count": 34,
   "metadata": {},
   "outputs": [],
   "source": [
    "a = 44\n",
    "b = 62"
   ]
  },
  {
   "cell_type": "code",
   "execution_count": 35,
   "metadata": {},
   "outputs": [
    {
     "data": {
      "text/plain": [
       "True"
      ]
     },
     "execution_count": 35,
     "metadata": {},
     "output_type": "execute_result"
    }
   ],
   "source": [
    "a < b"
   ]
  },
  {
   "cell_type": "code",
   "execution_count": 36,
   "metadata": {},
   "outputs": [
    {
     "data": {
      "text/plain": [
       "False"
      ]
     },
     "execution_count": 36,
     "metadata": {},
     "output_type": "execute_result"
    }
   ],
   "source": [
    "b < a"
   ]
  },
  {
   "cell_type": "code",
   "execution_count": 37,
   "metadata": {},
   "outputs": [
    {
     "data": {
      "text/plain": [
       "True"
      ]
     },
     "execution_count": 37,
     "metadata": {},
     "output_type": "execute_result"
    }
   ],
   "source": [
    "b > a"
   ]
  },
  {
   "cell_type": "code",
   "execution_count": 38,
   "metadata": {},
   "outputs": [
    {
     "data": {
      "text/plain": [
       "True"
      ]
     },
     "execution_count": 38,
     "metadata": {},
     "output_type": "execute_result"
    }
   ],
   "source": [
    "b >= a"
   ]
  },
  {
   "cell_type": "code",
   "execution_count": 15,
   "metadata": {},
   "outputs": [],
   "source": [
    "a = 44\n",
    "b = 44"
   ]
  },
  {
   "cell_type": "code",
   "execution_count": 39,
   "metadata": {},
   "outputs": [
    {
     "data": {
      "text/plain": [
       "True"
      ]
     },
     "execution_count": 39,
     "metadata": {},
     "output_type": "execute_result"
    }
   ],
   "source": [
    "a <= b"
   ]
  },
  {
   "cell_type": "code",
   "execution_count": 18,
   "metadata": {},
   "outputs": [
    {
     "data": {
      "text/plain": [
       "True"
      ]
     },
     "execution_count": 18,
     "metadata": {},
     "output_type": "execute_result"
    }
   ],
   "source": [
    "a == b"
   ]
  },
  {
   "cell_type": "code",
   "execution_count": 42,
   "metadata": {},
   "outputs": [],
   "source": [
    "a = 63\n",
    "b = 42\n",
    "a = b"
   ]
  },
  {
   "cell_type": "code",
   "execution_count": 43,
   "metadata": {},
   "outputs": [
    {
     "name": "stdout",
     "output_type": "stream",
     "text": [
      "42\n"
     ]
    }
   ],
   "source": [
    "print(a)"
   ]
  },
  {
   "cell_type": "code",
   "execution_count": 44,
   "metadata": {},
   "outputs": [
    {
     "data": {
      "text/plain": [
       "True"
      ]
     },
     "execution_count": 44,
     "metadata": {},
     "output_type": "execute_result"
    }
   ],
   "source": [
    "a = 33\n",
    "b = 56\n",
    "a != b"
   ]
  },
  {
   "cell_type": "code",
   "execution_count": 46,
   "metadata": {},
   "outputs": [
    {
     "data": {
      "text/plain": [
       "False"
      ]
     },
     "execution_count": 46,
     "metadata": {},
     "output_type": "execute_result"
    }
   ],
   "source": [
    "a = 1\n",
    "b = 1\n",
    "a != b"
   ]
  },
  {
   "cell_type": "markdown",
   "metadata": {},
   "source": [
    "## - Numbers Type\n",
    "Int and floating point numbers\n",
    "* Automatic type conversion between integer and floating point numbers\n",
    "    12 and 12.0 are different\n",
    "\n",
    "\n",
    "Basic mathematical operators are all available:\n",
    "* addition\n",
    "* subtraction\n",
    "* remainder\n",
    "* division\n",
    "* multiplication"
   ]
  },
  {
   "cell_type": "code",
   "execution_count": 72,
   "metadata": {},
   "outputs": [
    {
     "name": "stdout",
     "output_type": "stream",
     "text": [
      "<class 'float'>\n",
      "<class 'float'>\n",
      "24.0\n",
      "36\n",
      "36.0\n"
     ]
    }
   ],
   "source": [
    "## Integer and Floating point numbers calculation\n",
    "a = 12\n",
    "b = 12.0\n",
    "a2 = 24\n",
    "b2 = 24.0\n",
    "c = a / 12 # 12 / 12 -> 1.0 \n",
    "print(type(c))\n",
    "d = b / 12 # 12.0 / 12 -> 1.0 \n",
    "    # -> division always gives floating point number as result\n",
    "print(type(d))\n",
    "\n",
    "    # Hence they return floating point value\n",
    "    \n",
    "print(a + b) # returns floating point value\n",
    "print(a + a2) # returns integer value\n",
    "print(b + b2) # returns floating point value"
   ]
  },
  {
   "cell_type": "code",
   "execution_count": 49,
   "metadata": {},
   "outputs": [
    {
     "name": "stdout",
     "output_type": "stream",
     "text": [
      "55\n",
      "13\n",
      "27\n",
      "3.0\n",
      "0\n",
      "1\n"
     ]
    }
   ],
   "source": [
    "## Basic Mathematical operations\n",
    "a = 34\n",
    "b = 21\n",
    "c = 9\n",
    "d = 3\n",
    "e = 2\n",
    "\n",
    "result1 = a + b # addition \n",
    "result2 = a - b # subtraction\n",
    "result3 = c * d # multiplication\n",
    "result4 = c / d # division\n",
    "result5 = c % d # remainder\n",
    "result6 = c % e # remainder\n",
    "\n",
    "print(result1) # gives out the sum\n",
    "print(result2) # gives out the difference\n",
    "print(result3) # gives out the mult\n",
    "print(result4) # gives out the division result\n",
    "print(result5) # gives out the remainder for operation 9 % 3\n",
    "print(result6) # gives out the remainder for operation 9 % 2"
   ]
  },
  {
   "cell_type": "markdown",
   "metadata": {},
   "source": [
    "## - Operation priorities"
   ]
  },
  {
   "cell_type": "code",
   "execution_count": 51,
   "metadata": {},
   "outputs": [
    {
     "name": "stdout",
     "output_type": "stream",
     "text": [
      "55\n",
      "80\n"
     ]
    }
   ],
   "source": [
    "a = 25\n",
    "b = 15\n",
    "\n",
    "print(a + b * 2) # 25 + 30 = 55\n",
    "print((a + b) * 2) # (25 + 15) * 2 -> 40 * 2 = 80"
   ]
  },
  {
   "cell_type": "markdown",
   "metadata": {},
   "source": [
    "## - Exercises\n",
    "#### Calculate the following by using python program and print out using the 'print' funciton"
   ]
  },
  {
   "cell_type": "code",
   "execution_count": 52,
   "metadata": {},
   "outputs": [
    {
     "name": "stdout",
     "output_type": "stream",
     "text": [
      "15\n",
      "1176\n",
      "146.41\n",
      "71\n",
      "0\n",
      "8.0\n",
      "159\n",
      "390\n"
     ]
    }
   ],
   "source": [
    "print(5 * 3) # 15\n",
    "print(12 * 98) # 1176\n",
    "print(12.1 * 12.1) # 146.41\n",
    "print(83 - 12) # 71\n",
    "print(96 % 12) # 0\n",
    "print(96 / 12) # 8.0\n",
    "print(37 + 122) # 159\n",
    "print(177 * 2 + 36) # 354 + 36 = 390"
   ]
  },
  {
   "cell_type": "markdown",
   "metadata": {},
   "source": [
    "## - String type\n",
    "\n",
    "Multiple characters in sequence\n",
    "\n",
    "It's created by putting characters between '(single quote) or \"(double quote)\n"
   ]
  },
  {
   "cell_type": "code",
   "execution_count": 58,
   "metadata": {},
   "outputs": [
    {
     "name": "stdout",
     "output_type": "stream",
     "text": [
      "Hello World\n",
      "Hello World\n",
      "Hello World! \"What a nice day\", he said\n",
      "After the 'party', he slept until noon\n"
     ]
    }
   ],
   "source": [
    "str1 = 'Hello World'\n",
    "str2 = \"Hello World\"\n",
    "print(str1)\n",
    "print(str2)\n",
    "str3 = 'Hello World! \"What a nice day\", he said' # double quotes in small quotes\n",
    "str4 = \"After the 'party', he slept until noon\" # small quotes in double quotes\n",
    "print(str3)\n",
    "print(str4)"
   ]
  },
  {
   "cell_type": "code",
   "execution_count": 71,
   "metadata": {},
   "outputs": [
    {
     "name": "stdout",
     "output_type": "stream",
     "text": [
      "What a beautiful day\n",
      "What a beautiful day\n",
      "What a \"beautiful\" day\n",
      "What a 'beautiful' day\n"
     ]
    }
   ],
   "source": [
    "str1 = 'What a beautiful day'\n",
    "str2 = \"What a beautiful day\"\n",
    "\n",
    "str3 = 'What a \"beautiful\" day'\n",
    "str4 = \"What a 'beautiful' day\"\n",
    "print(str1)\n",
    "print(str2)\n",
    "print(str3)\n",
    "print(str4)"
   ]
  },
  {
   "cell_type": "markdown",
   "metadata": {},
   "source": [
    "## - Escape String\n",
    "\\n : new line\n",
    "\n",
    "\\t : new tab"
   ]
  },
  {
   "cell_type": "code",
   "execution_count": 62,
   "metadata": {},
   "outputs": [
    {
     "name": "stdout",
     "output_type": "stream",
     "text": [
      "Hello world\n",
      "Hello world\n",
      "Hello world\tHello world\n"
     ]
    }
   ],
   "source": [
    "print('Hello world\\nHello world') # gives out new line\n",
    "print('Hello world\\tHello world') # gives out new tab "
   ]
  },
  {
   "cell_type": "markdown",
   "metadata": {},
   "source": [
    "## - Indexing and Slicing \n",
    "### (Slicing is explained in additional study materials)\n",
    "Basics : Use [ ] parantheses to access the decided character in the string with the given index"
   ]
  },
  {
   "cell_type": "code",
   "execution_count": 67,
   "metadata": {},
   "outputs": [
    {
     "name": "stdout",
     "output_type": "stream",
     "text": [
      "7\n",
      "a\n",
      "b\n",
      "c\n",
      "g\n",
      "f\n",
      "e\n"
     ]
    }
   ],
   "source": [
    "string = 'abcdefg' # 7 characters 0 to 6\n",
    "print(len(string)) # returns the length of the 'string'\n",
    "print(string[0])\n",
    "print(string[1])\n",
    "print(string[2])\n",
    "print(string[-1])\n",
    "print(string[-2])\n",
    "#print(string[8])\n",
    "print(string[-3])"
   ]
  },
  {
   "cell_type": "code",
   "execution_count": null,
   "metadata": {},
   "outputs": [],
   "source": []
  }
 ],
 "metadata": {
  "kernelspec": {
   "display_name": "Python 3",
   "language": "python",
   "name": "python3"
  },
  "language_info": {
   "codemirror_mode": {
    "name": "ipython",
    "version": 3
   },
   "file_extension": ".py",
   "mimetype": "text/x-python",
   "name": "python",
   "nbconvert_exporter": "python",
   "pygments_lexer": "ipython3",
   "version": "3.8.5"
  }
 },
 "nbformat": 4,
 "nbformat_minor": 4
}
